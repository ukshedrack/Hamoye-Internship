{
 "cells": [
  {
   "cell_type": "markdown",
   "metadata": {},
   "source": [
    "## Data Types and Data Wrangling"
   ]
  },
  {
   "cell_type": "code",
   "execution_count": 55,
   "metadata": {},
   "outputs": [
    {
     "data": {
      "text/plain": [
       "False"
      ]
     },
     "execution_count": 55,
     "metadata": {},
     "output_type": "execute_result"
    }
   ],
   "source": [
    "# importing libraries\n",
    "import numpy as np\n",
    "import pandas as pd\n",
    "\n",
    "fuel_data = pd.read_csv('fuel_ferc1.csv', error_bad_lines=False)\n",
    "# print(fuel_data.head())\n",
    "# print(fuel_data.shape)\n",
    "# fuel_data.describe(include='all')\n",
    "# fuel_data.info()\n",
    "\n",
    "#check for missing values\n",
    "fuel_data.isnull().sum()\n",
    "\n",
    "#use groupby to count the sum of each unique value in the fuel unit column\n",
    "fuel_data.groupby('fuel_unit')['fuel_unit'].count()\n",
    "\n",
    "# Fill missing values\n",
    "fuel_data[['fuel_unit']] = fuel_data[['fuel_unit']].fillna(value='mcf')\n",
    "\n",
    "#check if missing values have been filled\n",
    "fuel_data.isnull().sum()\n",
    "\n",
    "#group by the fuel type code year \n",
    "# print(fuel_data.groupby('report_year')['report_year'].count())\n",
    "\n",
    "#print the first entries in all the groups formed\n",
    "fuel_data.groupby('fuel_type_code_pudl').first()\n",
    "\n",
    "fuel_df1 = fuel_data.iloc[0:19000].reset_index(drop=True)\n",
    "# print(fuel_df1.tail())\n",
    "fuel_df2 = fuel_data.iloc[19000:].reset_index(drop=True)\n",
    "# fuel_df3 = fuel_data.iloc[19000:].reset_index()\n",
    "# print(fuel_df3)\n",
    "\n",
    "#check that the length of both dataframes sum to the expected length\n",
    "assert len(fuel_data) == (len(fuel_df1) + len(fuel_df2))\n",
    "\n",
    "#an inner merge will lose rows that do not match in both dataframes\n",
    "pd.merge(fuel_df1, fuel_df2, how=\"inner\")\n",
    "\n",
    "#outer merge returns all rows in both dataframes\n",
    "pd.merge(fuel_df1, fuel_df2, how=\"outer\")\n",
    "\n",
    "#removes rows from the right dataframe that do not have a match with the left\n",
    "#and keeps all rows from the left\n",
    "pd.merge(fuel_df1, fuel_df2, how=\"left\")\n",
    "\n",
    "#removes rows from the right dataframe that do not have a match with the left\n",
    "#and keeps all rows from the left\n",
    "pd.merge(fuel_df1, fuel_df2, how=\"right\")\n",
    "\n",
    "#concatenation\n",
    "# pd.concat([fuel_data, data_to_concat]).reset_index(drop=True)\n",
    "\n",
    "#check for duplicate rows\n",
    "fuel_data.duplicated().any()"
   ]
  },
  {
   "cell_type": "code",
   "execution_count": null,
   "metadata": {},
   "outputs": [],
   "source": []
  }
 ],
 "metadata": {
  "kernelspec": {
   "display_name": "Python 3",
   "language": "python",
   "name": "python3"
  },
  "language_info": {
   "codemirror_mode": {
    "name": "ipython",
    "version": 3
   },
   "file_extension": ".py",
   "mimetype": "text/x-python",
   "name": "python",
   "nbconvert_exporter": "python",
   "pygments_lexer": "ipython3",
   "version": "3.7.6"
  }
 },
 "nbformat": 4,
 "nbformat_minor": 4
}
