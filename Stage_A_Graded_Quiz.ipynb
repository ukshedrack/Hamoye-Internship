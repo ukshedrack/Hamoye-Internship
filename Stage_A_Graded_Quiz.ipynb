{
 "cells": [
  {
   "cell_type": "code",
   "execution_count": 24,
   "metadata": {},
   "outputs": [
    {
     "data": {
      "text/plain": [
       "[1, 2, 3, 4, 5, 6, 13, 21, 34]"
      ]
     },
     "execution_count": 24,
     "metadata": {},
     "output_type": "execute_result"
    }
   ],
   "source": [
    "# importing libraries\n",
    "import numpy as np\n",
    "import pandas as pd\n",
    "import math, statistics, scipy.stats\n",
    "import matplotlib.pyplot as plt\n",
    "\n",
    "# Question 1\n",
    "A = [1,2,3,4,5,6]\n",
    "B = [13,21,34]\n",
    "A + B"
   ]
  },
  {
   "cell_type": "code",
   "execution_count": 28,
   "metadata": {},
   "outputs": [
    {
     "data": {
      "text/plain": [
       "array([[1, 0, 0],\n",
       "       [0, 1, 0],\n",
       "       [0, 0, 1]])"
      ]
     },
     "execution_count": 28,
     "metadata": {},
     "output_type": "execute_result"
    }
   ],
   "source": [
    "# Question 2\n",
    "np.array([[1,2,3],[4,5,6],[7,8,9]])\n",
    "np.identity(3, dtype=int)"
   ]
  },
  {
   "cell_type": "code",
   "execution_count": 49,
   "metadata": {},
   "outputs": [
    {
     "name": "stdout",
     "output_type": "stream",
     "text": [
      "                record_id  utility_id_ferc1  report_year  \\\n",
      "0   f1_fuel_1994_12_1_0_7                 1         1994   \n",
      "1  f1_fuel_1994_12_1_0_10                 1         1994   \n",
      "2   f1_fuel_1994_12_2_0_1                 2         1994   \n",
      "3   f1_fuel_1994_12_2_0_7                 2         1994   \n",
      "4  f1_fuel_1994_12_2_0_10                 2         1994   \n",
      "\n",
      "       plant_name_ferc1 fuel_type_code_pudl fuel_unit  fuel_qty_burned  \\\n",
      "0              rockport                coal       ton        5377489.0   \n",
      "1  rockport total plant                coal       ton       10486945.0   \n",
      "2                gorgas                coal       ton        2978683.0   \n",
      "3                 barry                coal       ton        3739484.0   \n",
      "4             chickasaw                 gas       mcf          40533.0   \n",
      "\n",
      "   fuel_mmbtu_per_unit  fuel_cost_per_unit_burned  \\\n",
      "0               16.590                      18.59   \n",
      "1               16.592                      18.58   \n",
      "2               24.130                      39.72   \n",
      "3               23.950                      47.21   \n",
      "4                1.000                       2.77   \n",
      "\n",
      "   fuel_cost_per_unit_delivered  fuel_cost_per_mmbtu  \n",
      "0                         18.53                1.121  \n",
      "1                         18.53                1.120  \n",
      "2                         38.12                1.650  \n",
      "3                         45.99                1.970  \n",
      "4                          2.77                2.570  \n",
      "record_id                       f1_fuel_2000_12_194_3_3\n",
      "utility_id_ferc1                                    194\n",
      "report_year                                        2000\n",
      "plant_name_ferc1                    nelson dewey unit 2\n",
      "fuel_type_code_pudl                               waste\n",
      "fuel_unit                                           ton\n",
      "fuel_qty_burned                                      39\n",
      "fuel_mmbtu_per_unit                              0.0155\n",
      "fuel_cost_per_unit_burned                       -276.08\n",
      "fuel_cost_per_unit_delivered                    -174.67\n",
      "fuel_cost_per_mmbtu                              -8.906\n",
      "Name: 7733, dtype: object\n",
      "       utility_id_ferc1   report_year  fuel_qty_burned  fuel_mmbtu_per_unit  \\\n",
      "count      29523.000000  29523.000000     2.952300e+04         29523.000000   \n",
      "mean         118.601836   2005.806050     2.622119e+06             8.492111   \n",
      "std           74.178353      7.025483     9.118004e+06            10.600220   \n",
      "min            1.000000   1994.000000     1.000000e+00             0.000001   \n",
      "25%           55.000000   2000.000000     1.381700e+04             1.024000   \n",
      "50%          122.000000   2006.000000     2.533220e+05             5.762694   \n",
      "75%          176.000000   2012.000000     1.424034e+06            17.006000   \n",
      "max          514.000000   2018.000000     5.558942e+08           341.260000   \n",
      "\n",
      "       fuel_cost_per_unit_burned  fuel_cost_per_unit_delivered  \\\n",
      "count               29523.000000                  2.952300e+04   \n",
      "mean                  208.649031                  9.175704e+02   \n",
      "std                  2854.490090                  6.877593e+04   \n",
      "min                  -276.080000                 -8.749370e+02   \n",
      "25%                     5.207000                  3.778500e+00   \n",
      "50%                    26.000000                  1.737100e+01   \n",
      "75%                    47.113000                  4.213700e+01   \n",
      "max                139358.000000                  7.964521e+06   \n",
      "\n",
      "       fuel_cost_per_mmbtu  \n",
      "count         29523.000000  \n",
      "mean             19.304354  \n",
      "std            2091.540939  \n",
      "min             -41.501000  \n",
      "25%               1.940000  \n",
      "50%               4.127000  \n",
      "75%               7.745000  \n",
      "max          359278.000000  \n"
     ]
    },
    {
     "data": {
      "text/plain": [
       "DescribeResult(nobs=29523, minmax=(1.0, 555894250.0), mean=2622119.38078786, variance=83137988310375.69, skewness=15.850690077422112, kurtosis=651.2589365474387)"
      ]
     },
     "execution_count": 49,
     "metadata": {},
     "output_type": "execute_result"
    }
   ],
   "source": [
    "# Question 3\n",
    "fuel_data = pd.read_csv('https://raw.githubusercontent.com/WalePhenomenon/climate_change/master/fuel_ferc1.csv',\n",
    "                 error_bad_lines=False)\n",
    "print(fuel_data.head())\n",
    "df_copy = fuel_data.copy()\n",
    "# df_copy.head()\n",
    "\n",
    "# df_copy = df.set_index('fuel_type_code_pudl')\n",
    "a = fuel_data['fuel_cost_per_unit_burned'].argmin()\n",
    "print(fuel_data.iloc[a])\n",
    "\n",
    "# Question 4\n",
    "print(fuel_data.describe())\n",
    "\n",
    "# Question 5\n",
    "scipy.stats.describe(fuel_data['fuel_qty_burned'])"
   ]
  },
  {
   "cell_type": "code",
   "execution_count": 52,
   "metadata": {},
   "outputs": [
    {
     "name": "stdout",
     "output_type": "stream",
     "text": [
      "record_id                         0\n",
      "utility_id_ferc1                  0\n",
      "report_year                       0\n",
      "plant_name_ferc1                  0\n",
      "fuel_type_code_pudl               0\n",
      "fuel_unit                       180\n",
      "fuel_qty_burned                   0\n",
      "fuel_mmbtu_per_unit               0\n",
      "fuel_cost_per_unit_burned         0\n",
      "fuel_cost_per_unit_delivered      0\n",
      "fuel_cost_per_mmbtu               0\n",
      "dtype: int64\n"
     ]
    },
    {
     "data": {
      "text/plain": [
       "0.00609694136774718"
      ]
     },
     "execution_count": 52,
     "metadata": {},
     "output_type": "execute_result"
    }
   ],
   "source": [
    "# Question 6\n",
    "print(fuel_data.isnull().sum())\n",
    "percent = 180/len(fuel_data)\n",
    "percent"
   ]
  },
  {
   "cell_type": "code",
   "execution_count": 55,
   "metadata": {},
   "outputs": [
    {
     "name": "stdout",
     "output_type": "stream",
     "text": [
      "record_id                       f1_fuel_1997_12_9_0_8\n",
      "utility_id_ferc1                                    9\n",
      "report_year                                      1997\n",
      "plant_name_ferc1                         peach bt 2&3\n",
      "fuel_type_code_pudl                           nuclear\n",
      "fuel_unit                                      gramsU\n",
      "fuel_qty_burned                                210474\n",
      "fuel_mmbtu_per_unit                           6.5e-05\n",
      "fuel_cost_per_unit_burned                      37.847\n",
      "fuel_cost_per_unit_delivered              7.96452e+06\n",
      "fuel_cost_per_mmbtu                             0.578\n",
      "Name: 3564, dtype: object\n"
     ]
    }
   ],
   "source": [
    "# Question 10\n",
    "b = fuel_data['fuel_cost_per_unit_delivered'].argmax()\n",
    "print(fuel_data.iloc[b])"
   ]
  },
  {
   "cell_type": "code",
   "execution_count": null,
   "metadata": {},
   "outputs": [],
   "source": []
  }
 ],
 "metadata": {
  "kernelspec": {
   "display_name": "Python 3",
   "language": "python",
   "name": "python3"
  }
 },
 "nbformat": 4,
 "nbformat_minor": 4
}
