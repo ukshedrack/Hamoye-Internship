{
 "cells": [
  {
   "cell_type": "code",
   "execution_count": 35,
   "metadata": {},
   "outputs": [
    {
     "name": "stdout",
     "output_type": "stream",
     "text": [
      "MAE: 0.05\n",
      "RSS: 45.35\n",
      "RMSE: 0.088\n",
      "R_Squared: 0.15\n",
      "RMSE_Ridge: 0.088\n",
      "Number of weight features used: 4\n",
      "RMSE_Lasso: 0.094\n"
     ]
    }
   ],
   "source": [
    "#importing libraries\n",
    "import pandas as pd\n",
    "import numpy as np\n",
    "import seaborn as sns\n",
    "\n",
    "df = pd.read_csv('https://archive.ics.uci.edu/ml/machine-learning-databases/00374/energydata_complete.csv')\n",
    "# df.head()\n",
    "# df.shape()\n",
    "dataset = df.drop(columns=['date', 'lights'])\n",
    "# print(dataset.head())\n",
    "\n",
    "#Normlaising dataset to a common scale using the min max scaler (Feature scaling)\n",
    "from sklearn.preprocessing import MinMaxScaler\n",
    "scaler = MinMaxScaler()\n",
    "normalised_df = pd.DataFrame(scaler.fit_transform(dataset), columns=dataset.columns)\n",
    "# print(normalised_df.head())\n",
    "features_df = normalised_df.drop(columns='Appliances')\n",
    "target_variable = normalised_df['Appliances']\n",
    "\n",
    "#Split dataset into train and test set. \n",
    "from sklearn.model_selection import train_test_split\n",
    "x_train, x_test, y_train, y_test = train_test_split(features_df, target_variable, test_size=0.3, random_state=42)\n",
    "\n",
    "# Fitting Simple Linear Regression to Training set\n",
    "from sklearn.linear_model import LinearRegression \n",
    "linear_model = LinearRegression()\n",
    "#fit the model to the training dataset\n",
    "linear_model.fit(x_train, y_train)\n",
    "#obtain predictions\n",
    "predicted_values = linear_model.predict(x_test)\n",
    "\n",
    "#MAE\n",
    "from sklearn.metrics import mean_absolute_error\n",
    "mae = mean_absolute_error(y_test, predicted_values)\n",
    "print(\"MAE: {}\".format(round(mae, 2))) #prints 0.05\n",
    "\n",
    "#RSS\n",
    "rss = np.sum(np.square(y_test - predicted_values))\n",
    "print(\"RSS: {}\".format(round(rss, 2))) #prints 45.35\n",
    "\n",
    "#RMSE\n",
    "from sklearn.metrics import mean_squared_error\n",
    "rmse = np.sqrt(mean_squared_error(y_test, predicted_values))\n",
    "print(\"RMSE: {}\".format(round(rmse, 3))) #prints 0.088\n",
    "\n",
    "#R_Squared\n",
    "from sklearn.metrics import r2_score\n",
    "r2_score = r2_score(y_test, predicted_values)\n",
    "print(\"R_Squared: {}\".format(round(r2_score, 2))) #prints 0.15\n",
    "\n",
    "## Question 17\n",
    "def get_weights_df(model, feat, col_name):\n",
    "  #this function returns the weight of every feature\n",
    "  weights = pd.Series(model.coef_, feat.columns).sort_values()\n",
    "  weights_df = pd.DataFrame(weights).reset_index()\n",
    "  weights_df.columns = ['Features', col_name]\n",
    "  weights_df[col_name].round(3)\n",
    "  return weights_df\n",
    "\n",
    "linear_model_weights = get_weights_df(linear_model, x_train, 'Linear_Model_Weight')\n",
    "# print(linear_model_weights)\n",
    "\n",
    "## Question 18 (Ridge Regression)\n",
    "from sklearn.linear_model import Ridge\n",
    "ridge_reg = Ridge(alpha=0.4)\n",
    "ridge_reg.fit(x_train, y_train)\n",
    "ridge_predicted_values = ridge_reg.predict(x_test)\n",
    "\n",
    "# RMSE (Ridge)\n",
    "from sklearn.metrics import mean_squared_error\n",
    "rmse_ridge = np.sqrt(mean_squared_error(y_test, ridge_predicted_values))\n",
    "print(\"RMSE_Ridge: {}\".format(round(rmse_ridge, 3))) #prints 0.088\n",
    "\n",
    "## Question 19\n",
    "from sklearn.linear_model import Lasso\n",
    "lasso_reg = Lasso(alpha=0.001)\n",
    "lasso_fit = lasso_reg.fit(x_train, y_train)\n",
    "print(\"Number of weight features used: {}\".format(np.sum(lasso_fit.coef_ != 0)))\n",
    "\n",
    "## Question 20\n",
    "lasso_predicted_values = lasso_reg.predict(x_test)\n",
    "\n",
    "# RMSE (Lasso)\n",
    "from sklearn.metrics import mean_squared_error\n",
    "rmse_lasso = np.sqrt(mean_squared_error(y_test, lasso_predicted_values))\n",
    "print(\"RMSE_Lasso: {}\".format(round(rmse_lasso, 3))) #prints 0.094"
   ]
  },
  {
   "cell_type": "markdown",
   "metadata": {},
   "source": [
    "### Question 12"
   ]
  },
  {
   "cell_type": "code",
   "execution_count": 47,
   "metadata": {},
   "outputs": [
    {
     "name": "stdout",
     "output_type": "stream",
     "text": [
      "R_Squared: 0.64\n"
     ]
    }
   ],
   "source": [
    "# New model features\n",
    "living_room_temp_df = normalised_df['T2']\n",
    "outside_temp = normalised_df['T6']\n",
    "\n",
    "#Split dataset into train and test set. \n",
    "x_new_train, x_new_test, y_new_train, y_new_test = train_test_split(living_room_temp, outside_temp, \n",
    "                                                                    test_size=0.3, random_state=42)\n",
    "x_new_train = np.array(x_new_train).reshape(-1,1)\n",
    "y_new_train = np.array(y_new_train).reshape(-1,1)\n",
    "\n",
    "# Fitting Simple Linear Regression to Training set\n",
    "linear_model.fit(x_new_train, y_new_train)\n",
    "#obtain predictions\n",
    "x_new_test = np.array(x_new_test).reshape(-1,1)\n",
    "y_new_test = np.array(y_new_test).reshape(-1,1)\n",
    "new_predicted_values = linear_model.predict(x_new_test)\n",
    "\n",
    "#R_Squared\n",
    "from sklearn.metrics import r2_score\n",
    "new_r2_score = r2_score(y_new_test, new_predicted_values)\n",
    "print(\"R_Squared: {}\".format(round(new_r2_score, 2)))"
   ]
  },
  {
   "cell_type": "code",
   "execution_count": null,
   "metadata": {},
   "outputs": [],
   "source": []
  }
 ],
 "metadata": {
  "kernelspec": {
   "display_name": "Python 3",
   "language": "python",
   "name": "python3"
  },
  "language_info": {
   "codemirror_mode": {
    "name": "ipython",
    "version": 3
   },
   "file_extension": ".py",
   "mimetype": "text/x-python",
   "name": "python",
   "nbconvert_exporter": "python",
   "pygments_lexer": "ipython3",
   "version": "3.7.6"
  }
 },
 "nbformat": 4,
 "nbformat_minor": 4
}
